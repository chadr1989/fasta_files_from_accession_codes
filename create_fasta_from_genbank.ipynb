{
 "cells": [
  {
   "cell_type": "code",
   "execution_count": null,
   "id": "8203af61-53af-41f7-8e35-c04211b139af",
   "metadata": {},
   "outputs": [],
   "source": [
    "import Bio\n",
    "from Bio import SeqIO\n",
    "from Bio import Entrez\n",
    "from Bio import Phylo\n",
    "from Bio import AlignIO\n",
    "import tkinter\n",
    "from tkinter import *\n",
    "from tkinter import filedialog\n",
    "import os\n",
    "import pandas as pd"
   ]
  },
  {
   "cell_type": "code",
   "execution_count": null,
   "id": "2c03f029-1417-45de-a4fe-78f7bb300f52",
   "metadata": {},
   "outputs": [],
   "source": [
    "# select excel file with accession numbers for nucleotide sequences (available in the supplementary materials of the paper)\n",
    "# this is just a shortcut to typing out the complete file path\n",
    "\n",
    "root = tkinter.Tk()\n",
    "request_load_file = filedialog.askopenfile(initialdir=os.getcwd())\n",
    "if request_load_file:\n",
    "      filepath = os.path.abspath(request_load_file.name)\n",
    "root.destroy()\n",
    "\n",
    "filepath"
   ]
  },
  {
   "cell_type": "code",
   "execution_count": null,
   "id": "1452e9ac-000b-4125-b38f-628ba1a1072a",
   "metadata": {},
   "outputs": [],
   "source": [
    "#  Creates a new folder called \"fasta_files\" in the same directory where your spreadsheet file is located\n",
    "\n",
    "folder = '\\\\'.join(filepath.split('\\\\')[:-1])\n",
    "if not os.path.exists(folder+'\\\\fasta_files'):\n",
    "    os.makedirs(folder+'\\\\fasta_files')"
   ]
  },
  {
   "cell_type": "code",
   "execution_count": null,
   "id": "1dabb640-92a5-4c26-becb-3682c7b3d6ad",
   "metadata": {},
   "outputs": [],
   "source": [
    "# creates a local copy of the spreadsheet that you selected\n",
    "\n",
    "df_accession = pd.read_excel(filepath)\n",
    "df_accession"
   ]
  },
  {
   "cell_type": "code",
   "execution_count": null,
   "id": "ceac8f72-bcc7-40a5-9bea-d70791320c7f",
   "metadata": {},
   "outputs": [],
   "source": [
    "#  This cell will fetch fasta strings from the genbank database and save them in individual fasta files with deflines that match the nomenclature in the solaralo dogs study\n",
    "#  Expect this cell to have a longer runtime due to repeated interaction with the database\n",
    "\n",
    "fasta_list = list()\n",
    "fasta_string = str()\n",
    "\n",
    "#  Iterate over available accession codes in the spreadsheet object\n",
    "for accession in df_accession[df_accession.columns[1]].dropna():\n",
    "    try:\n",
    "        \n",
    "#  email is needed to identify yourself to the Genbank database\n",
    "        Entrez.email = 'chad.m.reed1989@gmail.com'\n",
    "    \n",
    "#  'efetch' command retreives data from Genbank (\"gb\") nucleotide database\n",
    "        handle = Entrez.efetch(db=\"nucleotide\", id=accession, rettype=\"gb\", retmode=\"text\")\n",
    "        record = SeqIO.read(handle, \"genbank\")\n",
    "        handle.close()\n",
    "        \n",
    "#  Boolean statements are used to name the defline appropriately (based on figure1 in solarolo dogs study)\n",
    "        if not df_accession['Breed'][df_accession['Accession Number*']==accession].values[0]=='-':\n",
    "            record.description = df_accession['Breed'][df_accession['Accession Number*']==accession].values[0]\n",
    "        else:\n",
    "            record.description = df_accession['ID'][df_accession['Accession Number*']==accession].values[0]\n",
    "            \n",
    "#  this creates individual fasta files for each accession number with updated deflines\n",
    "        SeqIO.write(record,f'{folder}\\\\fasta_files\\\\{record.description}.fasta',\"fasta\")\n",
    "    \n",
    "#  convert the record object to text and add to a local list\n",
    "        fasta_list.append(SeqIO.FastaIO.as_fasta(record))\n",
    "\n",
    "#  exception is made when the accession code is not valid, jumps to the next accession code\n",
    "    except Exception:\n",
    "        pass"
   ]
  },
  {
   "cell_type": "code",
   "execution_count": null,
   "id": "232ee571-9fff-4145-a051-dbf837aec25e",
   "metadata": {},
   "outputs": [],
   "source": [
    "# this cell writes the strings in the 'fasta_list' to a single .txt file\n",
    "\n",
    "with open(f\"{folder}canis_rDNA.txt\", \"w\") as text_file:\n",
    "    text_file.write(fasta_string.join(fasta_list))"
   ]
  },
  {
   "cell_type": "code",
   "execution_count": null,
   "id": "d572c8e9-71b1-4636-a463-8b3aef8465e4",
   "metadata": {},
   "outputs": [],
   "source": [
    "#  this cell uses list comprehension to iterate over the fasta files that you just created and writes them into a single fasta file\n",
    "\n",
    "SeqIO.write(\n",
    "    \n",
    "#  wicked awesome list comprehension iterates over an imported function\n",
    "    [SeqIO.read(f'{folder}\\\\fasta_files\\\\{i}',format='fasta') for i in \n",
    "     os.listdir(f'{folder}\\\\fasta_files')], \n",
    "    \n",
    "#  input directory of new combined fasta file\n",
    "    f\"{folder}\\\\canid_rDNA.fasta\",\n",
    "    format=\"fasta\")"
   ]
  }
 ],
 "metadata": {
  "kernelspec": {
   "display_name": "Python 3",
   "language": "python",
   "name": "python3"
  },
  "language_info": {
   "codemirror_mode": {
    "name": "ipython",
    "version": 3
   },
   "file_extension": ".py",
   "mimetype": "text/x-python",
   "name": "python",
   "nbconvert_exporter": "python",
   "pygments_lexer": "ipython3",
   "version": "3.8.11"
  }
 },
 "nbformat": 4,
 "nbformat_minor": 5
}
