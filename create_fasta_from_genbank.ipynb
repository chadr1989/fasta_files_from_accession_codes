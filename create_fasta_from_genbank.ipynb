{
 "cells": [
  {
   "cell_type": "code",
   "execution_count": null,
   "id": "d22f0bc1-6c66-4c35-b03c-3dbcc5000edd",
   "metadata": {},
   "outputs": [],
   "source": [
    "import Bio\n",
    "from Bio import SeqIO\n",
    "from Bio import Entrez\n",
    "from Bio import Phylo\n",
    "from Bio import AlignIO\n",
    "import tkinter\n",
    "from tkinter import *\n",
    "from tkinter import filedialog\n",
    "import os\n",
    "import pandas as pd"
   ]
  },
  {
   "cell_type": "code",
   "execution_count": null,
   "id": "a41836fa-6808-4a80-b34a-75c549ebc522",
   "metadata": {},
   "outputs": [],
   "source": [
    "# select excel file with accession numbers for nucleotide sequences (available in the supplementary materials of the paper)\n",
    "# this is just a shortcut to typing out the complete file path\n",
    "\n",
    "root = tkinter.Tk()\n",
    "request_load_file = filedialog.askopenfile(initialdir=os.getcwd())\n",
    "if request_load_file:\n",
    "      filepath = os.path.abspath(request_load_file.name)\n",
    "root.destroy()\n",
    "\n",
    "filepath"
   ]
  },
  {
   "cell_type": "code",
   "execution_count": null,
   "id": "c226cf15-cbac-4a75-86bb-db00606dfd07",
   "metadata": {},
   "outputs": [],
   "source": [
    "#  Creates a new folder called \"fasta_files\" in the same directory where your spreadsheet file is located\n",
    "\n",
    "folder = '\\\\'.join(filepath.split('\\\\')[:-1])\n",
    "if not os.path.exists(folder+'\\\\fasta_files'):\n",
    "    os.makedirs(folder+'\\\\fasta_files')"
   ]
  },
  {
   "cell_type": "code",
   "execution_count": null,
   "id": "6c78b72e-486b-43c7-a762-189661b08ee5",
   "metadata": {},
   "outputs": [],
   "source": [
    "# creates a local copy of the spreadsheet that you selected\n",
    "\n",
    "df_accession = pd.read_excel(filepath)\n",
    "df_accession"
   ]
  },
  {
   "cell_type": "code",
   "execution_count": null,
   "id": "39298bb2-0e8f-4b52-9a76-b4cdb1895c5f",
   "metadata": {},
   "outputs": [],
   "source": [
    "# creates a pop up window that asks for the users email\n",
    "# NCBI Genbank wants to know who you are in case there is an issue\n",
    "\n",
    "root=tkinter.Tk(className='Email Input')\n",
    "root.geometry(\"500x75\")\n",
    "email_var=tkinter.StringVar()\n",
    "\n",
    "# Gives function to the input box\n",
    "def submit():\n",
    "    email=email_var.get()\n",
    "    print(\"The user's email address is: \" + email)\n",
    "    root.destroy()\n",
    "\n",
    "# Creates buttons and labels on the pop-up window\n",
    "email_label = tkinter.Label(root, text = \"User's Email Address\", font=('calibre',10, 'bold'))\n",
    "email_entry = tkinter.Entry(root,textvariable = email_var, font=('calibre',10,'normal'),width=50)\n",
    "sub_btn=tkinter.Button(root,text = 'Submit', command = submit)\n",
    "email_label.grid(row=0,column=0)\n",
    "email_entry.grid(row=0,column=1)\n",
    "sub_btn.grid(row=2,column=1)\n",
    "\n",
    "#  Inbeds the pop-up window in the script\n",
    "root.mainloop()"
   ]
  },
  {
   "cell_type": "code",
   "execution_count": null,
   "id": "1bc3843b-9398-4df9-b45a-8e9a0863edc4",
   "metadata": {},
   "outputs": [],
   "source": [
    "#  This cell will fetch fasta strings from the genbank database and save them in individual fasta files with deflines that match the nomenclature in the solaralo dogs study\n",
    "#  Expect this cell to have a longer runtime due to repeated interaction with the database\n",
    "\n",
    "fasta_list = list()\n",
    "fasta_string = str()\n",
    "\n",
    "#  Iterate over available accession codes in the spreadsheet object\n",
    "for accession in df_accession[df_accession.columns[1]].dropna():\n",
    "    try:\n",
    "        \n",
    "#  email is needed to identify yourself to the Genbank database\n",
    "        Entrez.email = email_var.get()\n",
    "    \n",
    "#  'efetch' command retreives data from Genbank (\"gb\") nucleotide database\n",
    "        handle = Entrez.efetch(db=\"nucleotide\", id=accession, rettype=\"gb\", retmode=\"text\")\n",
    "        record = SeqIO.read(handle, \"genbank\")\n",
    "        handle.close()\n",
    "        \n",
    "#  Boolean statements are used to name the defline appropriately (based on figure1 in solarolo dogs study)\n",
    "        if not df_accession['Breed'][df_accession['Accession Number*']==accession].values[0]=='-':\n",
    "            record.description = df_accession['Breed'][df_accession['Accession Number*']==accession].values[0]\n",
    "        else:\n",
    "            record.description = df_accession['ID'][df_accession['Accession Number*']==accession].values[0]\n",
    "            \n",
    "#  this creates individual fasta files for each accession number with updated deflines\n",
    "        SeqIO.write(record,f'{folder}\\\\fasta_files\\\\{record.description}.fasta',\"fasta\")\n",
    "    \n",
    "#  convert the record object to text and add to a local list\n",
    "        fasta_list.append(SeqIO.FastaIO.as_fasta(record))\n",
    "\n",
    "#  exception is made when the accession code is not valid, jumps to the next accession code\n",
    "    except Exception:\n",
    "        pass"
   ]
  },
  {
   "cell_type": "code",
   "execution_count": null,
   "id": "6938ffa0-d44e-4bbb-a97b-83c29d7e3ae3",
   "metadata": {},
   "outputs": [],
   "source": [
    "# this cell writes the strings in the 'fasta_list' to a single .txt file\n",
    "\n",
    "with open(f\"{folder}canid_rDNA.txt\", \"w\") as text_file:\n",
    "    text_file.write(fasta_string.join(fasta_list))"
   ]
  },
  {
   "cell_type": "code",
   "execution_count": null,
   "id": "d3919115-0ade-47bc-8351-eadbffe7a6dd",
   "metadata": {},
   "outputs": [],
   "source": [
    "#  this cell uses list comprehension to iterate over the fasta files that you just created and writes them into a single fasta file\n",
    "\n",
    "SeqIO.write(\n",
    "    \n",
    "#  wicked awesome list comprehension iterates over an imported function\n",
    "    [SeqIO.read(f'{folder}\\\\fasta_files\\\\{i}',format='fasta') for i in \n",
    "     os.listdir(f'{folder}\\\\fasta_files')], \n",
    "    \n",
    "#  input directory of new combined fasta file\n",
    "    f\"{folder}\\\\canid_rDNA.fasta\",\n",
    "    format=\"fasta\")"
   ]
  }
 ],
 "metadata": {
  "kernelspec": {
   "display_name": "Python 3",
   "language": "python",
   "name": "python3"
  },
  "language_info": {
   "codemirror_mode": {
    "name": "ipython",
    "version": 3
   },
   "file_extension": ".py",
   "mimetype": "text/x-python",
   "name": "python",
   "nbconvert_exporter": "python",
   "pygments_lexer": "ipython3",
   "version": "3.8.11"
  }
 },
 "nbformat": 4,
 "nbformat_minor": 5
}
