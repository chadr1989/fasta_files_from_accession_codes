{
 "cells": [
  {
   "cell_type": "code",
   "execution_count": null,
   "id": "fa1356f7-deb7-43d6-87c4-c71c7ccb8b8e",
   "metadata": {},
   "outputs": [],
   "source": [
    "import numpy as np\n",
    "import pandas as pd\n",
    "import os\n",
    "import tkinter\n",
    "from tkinter import *\n",
    "from tkinter.ttk import *\n",
    "from tkinter.filedialog import askdirectory, askopenfilename, asksaveasfilename\n",
    "import Bio\n",
    "from Bio import SeqIO\n",
    "from Bio import Entrez\n",
    "from Bio import Phylo\n",
    "from Bio import AlignIO\n",
    "import random"
   ]
  },
  {
   "cell_type": "code",
   "execution_count": null,
   "id": "5088fbc5-7484-49bb-aca7-08cc034798da",
   "metadata": {},
   "outputs": [],
   "source": [
    "def popup_request_fasta():    \n",
    "    root = tkinter.Tk()\n",
    "    request_load_file = askopenfilename(initialdir=os.getcwd(),title=\"Select FASTA\")\n",
    "    if request_load_file:\n",
    "        filepath = request_load_file\n",
    "    else: \n",
    "        filepath='No File Selected'\n",
    "    root.destroy()\n",
    "    return filepath\n",
    "\n",
    "def popup_request_savefile():    \n",
    "    root = tkinter.Tk()\n",
    "    request_load_file = asksaveasfilename(initialdir=os.getcwd(),title=\"Save File\")\n",
    "    if request_load_file:\n",
    "        filepath = request_load_file\n",
    "    else: \n",
    "        filepath='No Directory Selected'\n",
    "    root.destroy()\n",
    "    return filepath\n",
    "\n",
    "def grab_defline():\n",
    "    with open(popup_request_fasta()) as f:\n",
    "        lines = f.readlines()\n",
    "    templist=[]\n",
    "    for l in lines:\n",
    "        if l[0]=='>':\n",
    "            templist.append(l)\n",
    "    return templist\n",
    "\n",
    "def get_accession_codes(fasta):    \n",
    "    accession_list=[]\n",
    "    for i in fasta:\n",
    "        accession_list.append(i[1:].split()[0])\n",
    "    return accession_list\n",
    "\n",
    "def create_fasta(accession_list):\n",
    "        fasta_string = str()\n",
    "        fasta_list = list()\n",
    "        saveloc = popup_request_savefile()\n",
    "        for accession in accession_list:\n",
    "            try:\n",
    "                Entrez.email = 'chad.buteo@gmail.com'\n",
    "                handle = Entrez.efetch(db=\"protein\", id=accession, rettype=\"gb\", retmode=\"text\")\n",
    "                record = SeqIO.read(handle, \"genbank\")\n",
    "                handle.close()\n",
    "                fasta_list.append(SeqIO.FastaIO.as_fasta(record))\n",
    "            except Exception:\n",
    "                print(f'Exception for {accession}')\n",
    "            with open(saveloc, \"w\") as text_file:\n",
    "                text_file.write(fasta_string.join(fasta_list))\n",
    "        print('check for new fasta file in selected directory')\n",
    "\n",
    "def pair_description_to_accession(combined_fasta):\n",
    "    templist = []\n",
    "    for id in combined_fasta:\n",
    "        start = id.find('[')+1\n",
    "        end = id.find(']')\n",
    "        species = id[start:end]\n",
    "        accession = id[1:].split()[0]\n",
    "        templist.append((accession,species))\n",
    "    return templist\n",
    "\n",
    "def replace_deflines(fasta_lines):\n",
    "    templines = fasta_lines.copy()\n",
    "    for l in templines:\n",
    "        if l in deflines:\n",
    "            accession = l[1:].split()[0]\n",
    "            species = '_'.join(accession_dict[accession].split())\n",
    "            templines[templines.index(l)] = '>'+accession+'__'+species+'\\n'\n",
    "            #templines.replace(l,accession_dict[accession])\n",
    "        else: pass\n",
    "    return templines\n",
    "\n",
    "def write_fasta(fasta):\n",
    "    fasta_string = str()\n",
    "    saveloc = popup_request_savefile()\n",
    "    with open(saveloc, \"w\") as text_file:\n",
    "        text_file.write(fasta_string.join(fasta))\n",
    "    print('check for new fasta file in selected directory')"
   ]
  },
  {
   "cell_type": "code",
   "execution_count": null,
   "id": "7422181c-cd02-4a7c-bd45-2b8bc214c489",
   "metadata": {},
   "outputs": [],
   "source": [
    "combined_fasta=[]"
   ]
  },
  {
   "cell_type": "code",
   "execution_count": null,
   "id": "cfab9df9-029b-4bba-a228-70500440489e",
   "metadata": {},
   "outputs": [],
   "source": [
    "# choose the first fasta file you want to combine.... repeat as needed\n",
    "\n",
    "for i in grab_defline():\n",
    "    combined_fasta.append(i)"
   ]
  },
  {
   "cell_type": "code",
   "execution_count": null,
   "id": "1bcc979f-709e-4d9a-be5e-59dfe7e54680",
   "metadata": {},
   "outputs": [],
   "source": [
    "len(combined_fasta)"
   ]
  },
  {
   "cell_type": "code",
   "execution_count": null,
   "id": "be4d8ad3-0b95-4cfd-9098-8538c148123b",
   "metadata": {},
   "outputs": [],
   "source": [
    "print(f'Number of replicate sequences: {len(combined_fasta)-len(set(combined_fasta))}')"
   ]
  },
  {
   "cell_type": "code",
   "execution_count": null,
   "id": "c6219dcc-eb83-48df-ab2d-e96bd73dca51",
   "metadata": {},
   "outputs": [],
   "source": [
    "combined_fasta=list(set(combined_fasta))\n",
    "combined_fasta"
   ]
  },
  {
   "cell_type": "code",
   "execution_count": null,
   "id": "e3f0af26-7625-4bb0-89c8-70d8f82dd8bc",
   "metadata": {},
   "outputs": [],
   "source": [
    "get_accession_codes(combined_fasta)"
   ]
  },
  {
   "cell_type": "code",
   "execution_count": null,
   "id": "d708d0a9-1a64-4688-9fd6-78f1115d4c22",
   "metadata": {},
   "outputs": [],
   "source": [
    "accession_list=get_accession_codes(combined_fasta)"
   ]
  },
  {
   "cell_type": "code",
   "execution_count": null,
   "id": "a80c4764-cbb8-43b1-b73f-9384f3c48cd4",
   "metadata": {},
   "outputs": [],
   "source": [
    "eighty_percent=round(len(accession_list)*0.8)\n",
    "train_set=random.sample(accession_list,eighty_percent)\n",
    "train_set"
   ]
  },
  {
   "cell_type": "code",
   "execution_count": null,
   "id": "c83e0d39-78b4-47c9-a8ff-9473542422d7",
   "metadata": {},
   "outputs": [],
   "source": [
    "len(train_set)"
   ]
  },
  {
   "cell_type": "code",
   "execution_count": null,
   "id": "32c25ca9-4930-41a9-a0f3-8d6729f24d9c",
   "metadata": {},
   "outputs": [],
   "source": [
    "#create_fasta(accession_list)"
   ]
  },
  {
   "cell_type": "code",
   "execution_count": null,
   "id": "9232d172-ea05-4825-b507-c49f8554cc72",
   "metadata": {},
   "outputs": [],
   "source": [
    "create_fasta(train_set)"
   ]
  },
  {
   "cell_type": "code",
   "execution_count": null,
   "id": "62374521-1cc8-49aa-a4cb-46ec5a9c08e5",
   "metadata": {},
   "outputs": [],
   "source": [
    "test_set=[i for i in accession_list if i not in train_set]"
   ]
  },
  {
   "cell_type": "code",
   "execution_count": null,
   "id": "8fd41094-707b-4a72-aae3-85922f8d2feb",
   "metadata": {},
   "outputs": [],
   "source": [
    "create_fasta(test_set)"
   ]
  },
  {
   "cell_type": "code",
   "execution_count": null,
   "id": "8f6d821a-5813-439d-b524-1c68b7b536d4",
   "metadata": {},
   "outputs": [],
   "source": [
    "accession_tuples = pair_description_to_accession(combined_fasta)\n",
    "#accession_tuples"
   ]
  },
  {
   "cell_type": "code",
   "execution_count": null,
   "id": "5f74c20d-9a7e-4379-813c-3346aa55f036",
   "metadata": {},
   "outputs": [],
   "source": [
    "accession_dict = dict(accession_tuples)\n",
    "accession_dict"
   ]
  },
  {
   "cell_type": "code",
   "execution_count": null,
   "id": "9a469b94-d4b3-47e2-b94f-4c14e33402d0",
   "metadata": {},
   "outputs": [],
   "source": [
    "# choose alignment file\n",
    "with open(popup_request_fasta(),'r') as f:\n",
    "    lines = f.readlines()\n",
    "#lines"
   ]
  },
  {
   "cell_type": "code",
   "execution_count": null,
   "id": "0afecafb-9693-4b5d-a64c-987232a55b52",
   "metadata": {},
   "outputs": [],
   "source": [
    "# select the same alignement file, I will streamline this later\n",
    "\n",
    "deflines = grab_defline()\n",
    "deflines"
   ]
  },
  {
   "cell_type": "code",
   "execution_count": null,
   "id": "17894c5e-da8c-4ee8-9759-fd3bee035e08",
   "metadata": {},
   "outputs": [],
   "source": [
    "edited_fasta = replace_deflines(lines)"
   ]
  },
  {
   "cell_type": "code",
   "execution_count": null,
   "id": "f56c95c8-7923-4f16-84e5-c7ddbb6c9288",
   "metadata": {},
   "outputs": [],
   "source": [
    "write_fasta(edited_fasta)"
   ]
  },
  {
   "cell_type": "code",
   "execution_count": null,
   "id": "8b5932b9-08f9-4ef2-aca4-bd759953d0ef",
   "metadata": {},
   "outputs": [],
   "source": []
  }
 ],
 "metadata": {
  "kernelspec": {
   "display_name": "Python 3 (ipykernel)",
   "language": "python",
   "name": "python3"
  },
  "language_info": {
   "codemirror_mode": {
    "name": "ipython",
    "version": 3
   },
   "file_extension": ".py",
   "mimetype": "text/x-python",
   "name": "python",
   "nbconvert_exporter": "python",
   "pygments_lexer": "ipython3",
   "version": "3.8.12"
  }
 },
 "nbformat": 4,
 "nbformat_minor": 5
}
